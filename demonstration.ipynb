{
 "cells": [
  {
   "cell_type": "markdown",
   "metadata": {},
   "source": [
    "This document demonstrates the usage of the rsvp-stimgen package.\n"
   ]
  },
  {
   "cell_type": "code",
   "execution_count": 1,
   "metadata": {},
   "outputs": [
    {
     "name": "stderr",
     "output_type": "stream",
     "text": [
      "c:\\users\\mitarbeiter\\documents\\custompython\\lib\\site-packages\\pandas\\_libs\\__init__.py:4: RuntimeWarning: numpy.dtype size changed, may indicate binary incompatibility. Expected zd, got zd\n",
      "  from .tslib import iNaT, NaT, Timestamp, Timedelta, OutOfBoundsDatetime\n",
      "c:\\users\\mitarbeiter\\documents\\custompython\\lib\\site-packages\\pandas\\__init__.py:26: RuntimeWarning: numpy.dtype size changed, may indicate binary incompatibility. Expected zd, got zd\n",
      "  from pandas._libs import (hashtable as _hashtable,\n",
      "c:\\users\\mitarbeiter\\documents\\custompython\\lib\\site-packages\\pandas\\core\\dtypes\\common.py:6: RuntimeWarning: numpy.dtype size changed, may indicate binary incompatibility. Expected zd, got zd\n",
      "  from pandas._libs import algos, lib\n",
      "c:\\users\\mitarbeiter\\documents\\custompython\\lib\\site-packages\\pandas\\core\\util\\hashing.py:7: RuntimeWarning: numpy.dtype size changed, may indicate binary incompatibility. Expected zd, got zd\n",
      "  from pandas._libs import hashing, tslib\n",
      "c:\\users\\mitarbeiter\\documents\\custompython\\lib\\site-packages\\pandas\\core\\indexes\\base.py:7: RuntimeWarning: numpy.dtype size changed, may indicate binary incompatibility. Expected zd, got zd\n",
      "  from pandas._libs import (lib, index as libindex, tslib as libts,\n",
      "c:\\users\\mitarbeiter\\documents\\custompython\\lib\\site-packages\\pandas\\tseries\\offsets.py:21: RuntimeWarning: numpy.dtype size changed, may indicate binary incompatibility. Expected zd, got zd\n",
      "  import pandas._libs.tslibs.offsets as liboffsets\n",
      "c:\\users\\mitarbeiter\\documents\\custompython\\lib\\site-packages\\pandas\\core\\ops.py:16: RuntimeWarning: numpy.dtype size changed, may indicate binary incompatibility. Expected zd, got zd\n",
      "  from pandas._libs import algos as libalgos, ops as libops\n",
      "c:\\users\\mitarbeiter\\documents\\custompython\\lib\\site-packages\\pandas\\core\\indexes\\interval.py:32: RuntimeWarning: numpy.dtype size changed, may indicate binary incompatibility. Expected zd, got zd\n",
      "  from pandas._libs.interval import (\n",
      "c:\\users\\mitarbeiter\\documents\\custompython\\lib\\site-packages\\pandas\\core\\internals.py:14: RuntimeWarning: numpy.dtype size changed, may indicate binary incompatibility. Expected zd, got zd\n",
      "  from pandas._libs import internals as libinternals\n",
      "c:\\users\\mitarbeiter\\documents\\custompython\\lib\\site-packages\\pandas\\core\\sparse\\array.py:33: RuntimeWarning: numpy.dtype size changed, may indicate binary incompatibility. Expected zd, got zd\n",
      "  import pandas._libs.sparse as splib\n",
      "c:\\users\\mitarbeiter\\documents\\custompython\\lib\\site-packages\\pandas\\core\\window.py:36: RuntimeWarning: numpy.dtype size changed, may indicate binary incompatibility. Expected zd, got zd\n",
      "  import pandas._libs.window as _window\n",
      "c:\\users\\mitarbeiter\\documents\\custompython\\lib\\site-packages\\pandas\\core\\groupby\\groupby.py:68: RuntimeWarning: numpy.dtype size changed, may indicate binary incompatibility. Expected zd, got zd\n",
      "  from pandas._libs import (lib, reduction,\n",
      "c:\\users\\mitarbeiter\\documents\\custompython\\lib\\site-packages\\pandas\\core\\reshape\\reshape.py:30: RuntimeWarning: numpy.dtype size changed, may indicate binary incompatibility. Expected zd, got zd\n",
      "  from pandas._libs import algos as _algos, reshape as _reshape\n",
      "c:\\users\\mitarbeiter\\documents\\custompython\\lib\\site-packages\\pandas\\io\\parsers.py:45: RuntimeWarning: numpy.dtype size changed, may indicate binary incompatibility. Expected zd, got zd\n",
      "  import pandas._libs.parsers as parsers\n",
      "c:\\users\\mitarbeiter\\documents\\custompython\\lib\\site-packages\\pandas\\io\\pytables.py:50: RuntimeWarning: numpy.dtype size changed, may indicate binary incompatibility. Expected zd, got zd\n",
      "  from pandas._libs import algos, lib, writers as libwriters\n"
     ]
    }
   ],
   "source": [
    "import rsvp_vid as rv\n"
   ]
  },
  {
   "cell_type": "markdown",
   "metadata": {},
   "source": [
    "### Timer\n",
    "- Create a timer video for a specific duration. \n",
    "\n",
    "- Specifications: \n",
    "\n",
    "  * fold -- folder to which the images will be saved\n",
    "  * savefold -- timer file name \n",
    "  * my_dpi -- dpi of the video (500 means that the video is 500x500px)\n",
    "  * doVid -- make video automatically when true\n",
    "  * color scheme of the video: color1 is the empty ring, color2 is the filled ring, facecol is the background color. \n",
    "  * hz -- frames per sec (2 frames/images per sec means that it would take 180 secs (3 min) to finish the timer video) \n"
   ]
  },
  {
   "cell_type": "code",
   "execution_count": null,
   "metadata": {},
   "outputs": [],
   "source": []
  },
  {
   "cell_type": "code",
   "execution_count": 2,
   "metadata": {},
   "outputs": [],
   "source": [
    "# rv.do_Timer(my_dpi = 600)"
   ]
  },
  {
   "cell_type": "markdown",
   "metadata": {},
   "source": [
    "### Video \n",
    "- Create an rsvp video, using frames in a folder\n"
   ]
  },
  {
   "cell_type": "code",
   "execution_count": 2,
   "metadata": {},
   "outputs": [
    {
     "data": {
      "text/plain": [
       "<Figure size 600x600 with 0 Axes>"
      ]
     },
     "metadata": {},
     "output_type": "display_data"
    },
    {
     "data": {
      "text/plain": [
       "<Figure size 600x600 with 0 Axes>"
      ]
     },
     "metadata": {},
     "output_type": "display_data"
    }
   ],
   "source": [
    "fold = '/test_images/'\n",
    "savefold = '/rsvp_individual_video_prep1/'\n",
    "rv.prep_images(fold, savefold)\n",
    "aviName = 'rsvp_test.avi'\n",
    "rv.doVideo(savefold, aviName, shuffle1=True, printReport=True)"
   ]
  }
 ],
 "metadata": {
  "kernelspec": {
   "display_name": "Python 2",
   "language": "python",
   "name": "python2"
  },
  "language_info": {
   "codemirror_mode": {
    "name": "ipython",
    "version": 2
   },
   "file_extension": ".py",
   "mimetype": "text/x-python",
   "name": "python",
   "nbconvert_exporter": "python",
   "pygments_lexer": "ipython2",
   "version": "2.7.11"
  }
 },
 "nbformat": 4,
 "nbformat_minor": 2
}
