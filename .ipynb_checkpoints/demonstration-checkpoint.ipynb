{
 "cells": [
  {
   "cell_type": "markdown",
   "metadata": {},
   "source": [
    "This document demonstrates the usage of the rsvp-stimgen package.\n"
   ]
  },
  {
   "cell_type": "code",
   "execution_count": 4,
   "metadata": {},
   "outputs": [],
   "source": [
    "import rsvp_vid as rv\n"
   ]
  },
  {
   "cell_type": "markdown",
   "metadata": {},
   "source": [
    "### Timer\n",
    "- Create a timer video for a specific duration. \n",
    "\n",
    "- Specifications: \n",
    "\n",
    "  * fold -- folder to which the images will be saved\n",
    "  * savefold -- timer file name \n",
    "  * my_dpi -- dpi of the video (500 means that the video is 500x500px)\n",
    "  * doVid -- make video automatically when true\n",
    "  * color scheme of the video: color1 is the empty ring, color2 is the filled ring, facecol is the background color. \n",
    "  * hz -- frames per sec (2 frames/images per sec means that it would take 180 secs (3 min) to finish the timer video) \n"
   ]
  },
  {
   "cell_type": "code",
   "execution_count": null,
   "metadata": {},
   "outputs": [],
   "source": []
  },
  {
   "cell_type": "code",
   "execution_count": 2,
   "metadata": {},
   "outputs": [],
   "source": [
    "# rv.do_Timer(my_dpi = 600)"
   ]
  },
  {
   "cell_type": "markdown",
   "metadata": {},
   "source": [
    "### Video \n",
    "- Create an rsvp video, using frames in a folder\n"
   ]
  },
  {
   "cell_type": "code",
   "execution_count": 8,
   "metadata": {},
   "outputs": [
    {
     "data": {
      "text/plain": [
       "<Figure size 600x600 with 0 Axes>"
      ]
     },
     "metadata": {},
     "output_type": "display_data"
    },
    {
     "data": {
      "text/plain": [
       "<Figure size 600x600 with 0 Axes>"
      ]
     },
     "metadata": {},
     "output_type": "display_data"
    }
   ],
   "source": [
    "fold = '/test_images/'\n",
    "savefold = '/rsvp_individual_video_prep1/'\n",
    "rv.prep_images(fold, savefold)\n",
    "aviName = 'rsvp_test.avi'\n",
    "rv.doVideo(savefold, aviName, shuffle1=True, printReport=True)"
   ]
  }
 ],
 "metadata": {
  "kernelspec": {
   "display_name": "Python 2",
   "language": "python",
   "name": "python2"
  },
  "language_info": {
   "codemirror_mode": {
    "name": "ipython",
    "version": 2
   },
   "file_extension": ".py",
   "mimetype": "text/x-python",
   "name": "python",
   "nbconvert_exporter": "python",
   "pygments_lexer": "ipython2",
   "version": "2.7.11"
  }
 },
 "nbformat": 4,
 "nbformat_minor": 2
}
